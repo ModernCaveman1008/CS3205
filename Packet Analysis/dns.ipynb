{
 "cells": [
  {
   "cell_type": "code",
   "execution_count": 7,
   "id": "8cf96436-4bc4-4116-8d8e-0465c41faa1d",
   "metadata": {},
   "outputs": [
    {
     "name": "stdout",
     "output_type": "stream",
     "text": [
      "Domain name : cse.iitm.ac.in\n",
      "IP address : 10.6.8.2\n"
     ]
    }
   ],
   "source": [
    "def get_domain_name(hex,st):\n",
    "    domain = \"\"\n",
    "    len = int(hex[st:st+2],16)\n",
    "    if len>191 :\n",
    "        off = int(hex[st:st+4],16)\n",
    "        off-=49152\n",
    "        off *= 2\n",
    "        dom,_ = get_domain_name(hex,off)\n",
    "        return dom,st+4\n",
    "    if len>63:\n",
    "        print(\"Invalid data\")\n",
    "        return\n",
    "    len*=2\n",
    "    start = st+2\n",
    "    while len :\n",
    "        name = bytes.fromhex(hex[start:start+len]).decode(\"ASCII\")\n",
    "        domain+=name\n",
    "        domain+=\".\"\n",
    "        start = start+len\n",
    "        len = int(hex[start:start+2],16)\n",
    "        len*=2\n",
    "        start+=2\n",
    "    return domain[:-1],start\n",
    "\n",
    "def get_ip(hex):\n",
    "    ip=\"\"\n",
    "    s=0\n",
    "    for _ in range(4) :\n",
    "        i = int(hex[s:s+2],16)\n",
    "        s+=2\n",
    "        ip+=str(i)+\".\"\n",
    "    return ip[:-1]\n",
    "        \n",
    "        \n",
    "\n",
    "def dns_parser(hex):\n",
    "    domain = \"\"\n",
    "    ip = \"\"\n",
    "    if len(hex)<24:\n",
    "        print(\"Invalid data\")\n",
    "        return\n",
    "    q_r = int(hex[4],16)\n",
    "    q_count = int(hex[8:12],16)\n",
    "    a_count = int(hex[12:16],16)\n",
    "    if q_count != 1 or a_count>1:\n",
    "        print(\"Invalid data\")\n",
    "        return\n",
    "    if q_r<7 and a_count>0:\n",
    "        print(\"Invalid data\")\n",
    "        return\n",
    "    if q_r > 7 :\n",
    "        domain,end = get_domain_name(hex,24)\n",
    "        end+=8\n",
    "        dom,end = get_domain_name(hex,end)\n",
    "        if dom != domain :\n",
    "            print(\"Invalid data\")\n",
    "            return\n",
    "        end+=20\n",
    "        ip = get_ip(hex[end:])\n",
    "        print(f\"Domain name : {domain}\")\n",
    "        print(f\"IP address : {ip}\")\n",
    "    else :\n",
    "        domain,end = get_domain_name(hex,24)\n",
    "        print(f\"Domain name : {domain}\")\n",
    "        \n",
    "\n",
    "# dns_packet_hex = \"4c76010000010000000000010c74696d65736f66696e6469610a696e64696174696d657303636f6d00000100010000290200000000000000\"\n",
    "dns_packet_hex = \"629f8180000100010000000103637365046969746d02616302696e0000010001c00c0001000100001f9600040a0608020000290200000000000000\"\n",
    "# dns_packet_hex = \"00c88b57ec40ec2e98e9046b08004500004b527e40004011802f0a2a52f10a1800c2e36400350037875137920100000100000000000106636c69656e740764726f70626f7803636f6d00000100010000290200000000000000\"\n",
    "# dns_packet_hex = \"ec2e98e9046b34e894fa3f5e08004500006b030400003e11f7c4c0a80001c0a80068003581c300577fa37baf818000010001000000010f7a2d7034322d696e7374616772616d046331307209696e7374616772616d03636f6d0000010001c00c000100010000000c00049df017ae0000290200000000000000\"\n",
    "# dns_packet_hex = \"a0208180000100010000000105666f6e74730a676f6f676c656170697303636f6d0000010001c00c00010001000000ae00048efab64a0000290200000000000000\"\n",
    "dns_parser(dns_packet_hex)\n"
   ]
  },
  {
   "cell_type": "code",
   "execution_count": null,
   "id": "4ee2fee7-53b7-4a58-9214-9937d81a1c0b",
   "metadata": {},
   "outputs": [],
   "source": []
  }
 ],
 "metadata": {
  "kernelspec": {
   "display_name": "Python 3 (ipykernel)",
   "language": "python",
   "name": "python3"
  },
  "language_info": {
   "codemirror_mode": {
    "name": "ipython",
    "version": 3
   },
   "file_extension": ".py",
   "mimetype": "text/x-python",
   "name": "python",
   "nbconvert_exporter": "python",
   "pygments_lexer": "ipython3",
   "version": "3.10.8"
  }
 },
 "nbformat": 4,
 "nbformat_minor": 5
}
